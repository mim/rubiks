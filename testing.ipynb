{
 "cells": [
  {
   "cell_type": "code",
   "execution_count": 2,
   "metadata": {},
   "outputs": [
    {
     "name": "stdout",
     "output_type": "stream",
     "text": [
      "The autoreload extension is already loaded. To reload it, use:\n",
      "  %reload_ext autoreload\n"
     ]
    }
   ],
   "source": [
    "%matplotlib inline\n",
    "%load_ext autoreload\n",
    "%autoreload 2"
   ]
  },
  {
   "cell_type": "code",
   "execution_count": 4,
   "metadata": {},
   "outputs": [],
   "source": [
    "import rubiks"
   ]
  },
  {
   "cell_type": "code",
   "execution_count": 7,
   "metadata": {},
   "outputs": [
    {
     "data": {
      "text/plain": [
       "array([[0., 0., 1., 0.],\n",
       "       [1., 0., 0., 0.],\n",
       "       [0., 1., 0., 0.],\n",
       "       [0., 0., 0., 1.]])"
      ]
     },
     "execution_count": 7,
     "metadata": {},
     "output_type": "execute_result"
    }
   ],
   "source": [
    "rubiks.permutation_matrix(4, [0,1,2], [1,2,0])"
   ]
  },
  {
   "cell_type": "code",
   "execution_count": 110,
   "metadata": {},
   "outputs": [],
   "source": [
    "r = rubiks.Rubiks2x2()"
   ]
  },
  {
   "cell_type": "code",
   "execution_count": 111,
   "metadata": {},
   "outputs": [
    {
     "data": {
      "text/plain": [
       "(4,4)\n",
       "(4,4)\n",
       "  |\n",
       "(0,0) _ (1,1) _ (2,2) _ (3,3)\n",
       "(0,0)   (1,1)   (2,2)   (3,3)\n",
       "  |\n",
       "(5,5)\n",
       "(5,5)"
      ]
     },
     "execution_count": 111,
     "metadata": {},
     "output_type": "execute_result"
    }
   ],
   "source": [
    "r"
   ]
  },
  {
   "cell_type": "code",
   "execution_count": 112,
   "metadata": {},
   "outputs": [
    {
     "data": {
      "text/plain": [
       "(4,0)\n",
       "(4,0)\n",
       "  |\n",
       "(0,5) _ (1,1) _ (4,2) _ (3,3)\n",
       "(0,5)   (1,1)   (4,2)   (3,3)\n",
       "  |\n",
       "(5,2)\n",
       "(5,2)"
      ]
     },
     "execution_count": 112,
     "metadata": {},
     "output_type": "execute_result"
    }
   ],
   "source": [
    "r.transform(1)"
   ]
  },
  {
   "cell_type": "code",
   "execution_count": 113,
   "metadata": {},
   "outputs": [
    {
     "data": {
      "text/plain": [
       "(4,4)\n",
       "(4,4)\n",
       "  |\n",
       "(0,0) _ (1,1) _ (2,2) _ (3,3)\n",
       "(0,0)   (1,1)   (2,2)   (3,3)\n",
       "  |\n",
       "(5,5)\n",
       "(5,5)"
      ]
     },
     "execution_count": 113,
     "metadata": {},
     "output_type": "execute_result"
    }
   ],
   "source": [
    "r"
   ]
  },
  {
   "cell_type": "code",
   "execution_count": 114,
   "metadata": {},
   "outputs": [
    {
     "data": {
      "text/plain": [
       "3219287"
      ]
     },
     "execution_count": 114,
     "metadata": {},
     "output_type": "execute_result"
    }
   ],
   "source": [
    "hash(r.transform(-1))"
   ]
  },
  {
   "cell_type": "code",
   "execution_count": 257,
   "metadata": {},
   "outputs": [],
   "source": [
    "random = rubiks.randomize(r, 10)"
   ]
  },
  {
   "cell_type": "code",
   "execution_count": 258,
   "metadata": {},
   "outputs": [
    {
     "data": {
      "text/plain": [
       "(0,1)\n",
       "(2,5)\n",
       "  |\n",
       "(5,0) _ (3,4) _ (0,5) _ (1,1)\n",
       "(0,1)   (4,4)   (3,2)   (3,4)\n",
       "  |\n",
       "(3,2)\n",
       "(5,2)"
      ]
     },
     "execution_count": 258,
     "metadata": {},
     "output_type": "execute_result"
    }
   ],
   "source": [
    "random"
   ]
  },
  {
   "cell_type": "code",
   "execution_count": 259,
   "metadata": {
    "scrolled": false
   },
   "outputs": [
    {
     "name": "stdout",
     "output_type": "stream",
     "text": [
      "................................................................................\n",
      ".................................................Found it!\n",
      "(4,4)\n",
      "(4,4)\n",
      "  |\n",
      "(0,0) _ (1,1) _ (2,2) _ (3,3)\n",
      "(0,0)   (1,1)   (2,2)   (3,3)\n",
      "  |\n",
      "(5,5)\n",
      "(5,5)\n",
      "\n",
      "Move: 5\n",
      "(4,4)\n",
      "(3,3)\n",
      "  |\n",
      "(0,0) _ (4,1) _ (2,2) _ (3,5)\n",
      "(0,0)   (4,1)   (2,2)   (3,5)\n",
      "  |\n",
      "(1,1)\n",
      "(5,5)\n",
      "\n",
      "Move: 5\n",
      "(4,4)\n",
      "(5,5)\n",
      "  |\n",
      "(0,0) _ (3,1) _ (2,2) _ (3,1)\n",
      "(0,0)   (3,1)   (2,2)   (3,1)\n",
      "  |\n",
      "(4,4)\n",
      "(5,5)\n",
      "\n",
      "Move: 2\n",
      "(4,5)\n",
      "(4,5)\n",
      "  |\n",
      "(3,1) _ (0,0) _ (3,1) _ (2,2)\n",
      "(0,0)   (3,1)   (2,2)   (3,1)\n",
      "  |\n",
      "(4,4)\n",
      "(5,5)\n",
      "\n",
      "Move: 2\n",
      "(5,5)\n",
      "(4,4)\n",
      "  |\n",
      "(2,2) _ (3,1) _ (0,0) _ (3,1)\n",
      "(0,0)   (3,1)   (2,2)   (3,1)\n",
      "  |\n",
      "(4,4)\n",
      "(5,5)\n",
      "\n",
      "Move: 5\n",
      "(5,5)\n",
      "(1,1)\n",
      "  |\n",
      "(0,2) _ (4,1) _ (0,0) _ (3,4)\n",
      "(0,2)   (4,1)   (2,2)   (3,4)\n",
      "  |\n",
      "(3,3)\n",
      "(5,5)\n",
      "\n",
      "Move: 1\n",
      "(5,2)\n",
      "(1,0)\n",
      "  |\n",
      "(0,5) _ (1,1) _ (5,0) _ (3,4)\n",
      "(0,1)   (4,4)   (3,2)   (3,4)\n",
      "  |\n",
      "(3,2)\n",
      "(5,2)\n",
      "\n",
      "Move: 2\n",
      "(2,0)\n",
      "(5,1)\n",
      "  |\n",
      "(3,4) _ (0,5) _ (1,1) _ (5,0)\n",
      "(0,1)   (4,4)   (3,2)   (3,4)\n",
      "  |\n",
      "(3,2)\n",
      "(5,2)\n",
      "\n",
      "Move: 2\n",
      "(0,1)\n",
      "(2,5)\n",
      "  |\n",
      "(5,0) _ (3,4) _ (0,5) _ (1,1)\n",
      "(0,1)   (4,4)   (3,2)   (3,4)\n",
      "  |\n",
      "(3,2)\n",
      "(5,2)\n",
      "\n"
     ]
    }
   ],
   "source": [
    "solution = rubiks.solve_2way(random)"
   ]
  },
  {
   "cell_type": "code",
   "execution_count": 252,
   "metadata": {},
   "outputs": [],
   "source": [
    "s = set([])"
   ]
  },
  {
   "cell_type": "code",
   "execution_count": null,
   "metadata": {},
   "outputs": [],
   "source": []
  },
  {
   "cell_type": "code",
   "execution_count": null,
   "metadata": {},
   "outputs": [],
   "source": []
  },
  {
   "cell_type": "code",
   "execution_count": null,
   "metadata": {},
   "outputs": [],
   "source": []
  },
  {
   "cell_type": "code",
   "execution_count": 213,
   "metadata": {},
   "outputs": [],
   "source": [
    "cube = rubiks.Rubiks2x2()"
   ]
  },
  {
   "cell_type": "code",
   "execution_count": 214,
   "metadata": {},
   "outputs": [],
   "source": [
    "cubes = []\n",
    "visited = set([])"
   ]
  },
  {
   "cell_type": "code",
   "execution_count": 215,
   "metadata": {},
   "outputs": [],
   "source": [
    "cubes.append([cube])\n",
    "visited.add(cube)"
   ]
  },
  {
   "cell_type": "code",
   "execution_count": 244,
   "metadata": {},
   "outputs": [],
   "source": [
    "new_cubes = []\n",
    "for c in cubes[-1]:\n",
    "    for t in range(len(rubiks.transformations)):\n",
    "        nc = c.transform(t)\n",
    "        if nc not in visited:\n",
    "            new_cubes.append(nc)\n",
    "            visited.add(nc)\n",
    "cubes.append(new_cubes)"
   ]
  },
  {
   "cell_type": "code",
   "execution_count": 245,
   "metadata": {},
   "outputs": [
    {
     "data": {
      "text/plain": [
       "10"
      ]
     },
     "execution_count": 245,
     "metadata": {},
     "output_type": "execute_result"
    }
   ],
   "source": [
    "len(cubes)"
   ]
  },
  {
   "cell_type": "code",
   "execution_count": 246,
   "metadata": {},
   "outputs": [],
   "source": [
    "dists = [[cube.dist(c) for c in new_cubes] for new_cubes in cubes]"
   ]
  },
  {
   "cell_type": "code",
   "execution_count": 247,
   "metadata": {},
   "outputs": [],
   "source": [
    "import matplotlib.pyplot as plt"
   ]
  },
  {
   "cell_type": "code",
   "execution_count": 248,
   "metadata": {},
   "outputs": [
    {
     "data": {
      "text/plain": [
       "(array([   678.,    894.,   1668.,  12046.,  17790.,  29940., 112572.,\n",
       "         74304.,  65568.,  45048.]),\n",
       " array([ 8. ,  9.3, 10.6, 11.9, 13.2, 14.5, 15.8, 17.1, 18.4, 19.7, 21. ]),\n",
       " <a list of 10 Patch objects>)"
      ]
     },
     "execution_count": 248,
     "metadata": {},
     "output_type": "execute_result"
    },
    {
     "data": {
      "image/png": "[encoded data removed]",
      "text/plain": [
       "<Figure size 432x288 with 1 Axes>"
      ]
     },
     "metadata": {
      "needs_background": "light"
     },
     "output_type": "display_data"
    }
   ],
   "source": [
    "plt.hist(dists[9])"
   ]
  },
  {
   "cell_type": "code",
   "execution_count": null,
   "metadata": {},
   "outputs": [],
   "source": []
  }
 ],
 "metadata": {
  "kernelspec": {
   "display_name": "Python 3",
   "language": "python",
   "name": "python3"
  },
  "language_info": {
   "codemirror_mode": {
    "name": "ipython",
    "version": 3
   },
   "file_extension": ".py",
   "mimetype": "text/x-python",
   "name": "python",
   "nbconvert_exporter": "python",
   "pygments_lexer": "ipython3",
   "version": "3.6.7"
  }
 },
 "nbformat": 4,
 "nbformat_minor": 2
}
