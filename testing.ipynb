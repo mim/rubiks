{
 "cells": [
  {
   "cell_type": "code",
   "execution_count": 1,
   "metadata": {},
   "outputs": [
    {
     "name": "stdout",
     "output_type": "stream",
     "text": [
      "The autoreload extension is already loaded. To reload it, use:\n",
      "  %reload_ext autoreload\n"
     ]
    }
   ],
   "source": [
    "%matplotlib inline\n",
    "%load_ext autoreload\n",
    "%autoreload 2"
   ]
  },
  {
   "cell_type": "markdown",
   "metadata": {},
   "source": [
    "# Basics of `rubiks` module"
   ]
  },
  {
   "cell_type": "code",
   "execution_count": 2,
   "metadata": {},
   "outputs": [],
   "source": [
    "import rubiks"
   ]
  },
  {
   "cell_type": "code",
   "execution_count": 3,
   "metadata": {},
   "outputs": [
    {
     "data": {
      "text/plain": [
       "array([[0, 0, 1, 0],\n",
       "       [1, 0, 0, 0],\n",
       "       [0, 1, 0, 0],\n",
       "       [0, 0, 0, 1]])"
      ]
     },
     "execution_count": 3,
     "metadata": {},
     "output_type": "execute_result"
    }
   ],
   "source": [
    "rubiks.permutation_matrix(4, [0,1,2], [1,2,0])"
   ]
  },
  {
   "cell_type": "code",
   "execution_count": 4,
   "metadata": {},
   "outputs": [],
   "source": [
    "r = rubiks.Rubiks2x2()"
   ]
  },
  {
   "cell_type": "code",
   "execution_count": 5,
   "metadata": {},
   "outputs": [
    {
     "data": {
      "text/plain": [
       "(4,4)\n",
       "(4,4)\n",
       "  |\n",
       "(0,0) _ (1,1) _ (2,2) _ (3,3)\n",
       "(0,0)   (1,1)   (2,2)   (3,3)\n",
       "  |\n",
       "(5,5)\n",
       "(5,5)"
      ]
     },
     "execution_count": 5,
     "metadata": {},
     "output_type": "execute_result"
    }
   ],
   "source": [
    "r"
   ]
  },
  {
   "cell_type": "code",
   "execution_count": 6,
   "metadata": {},
   "outputs": [
    {
     "data": {
      "text/plain": [
       "(4,0)\n",
       "(4,0)\n",
       "  |\n",
       "(0,5) _ (1,1) _ (4,2) _ (3,3)\n",
       "(0,5)   (1,1)   (4,2)   (3,3)\n",
       "  |\n",
       "(5,2)\n",
       "(5,2)"
      ]
     },
     "execution_count": 6,
     "metadata": {},
     "output_type": "execute_result"
    }
   ],
   "source": [
    "r.transform(1)"
   ]
  },
  {
   "cell_type": "code",
   "execution_count": 7,
   "metadata": {},
   "outputs": [
    {
     "data": {
      "text/plain": [
       "(4,4)\n",
       "(4,4)\n",
       "  |\n",
       "(0,0) _ (1,1) _ (2,2) _ (3,3)\n",
       "(0,0)   (1,1)   (2,2)   (3,3)\n",
       "  |\n",
       "(5,5)\n",
       "(5,5)"
      ]
     },
     "execution_count": 7,
     "metadata": {},
     "output_type": "execute_result"
    }
   ],
   "source": [
    "r"
   ]
  },
  {
   "cell_type": "code",
   "execution_count": 8,
   "metadata": {},
   "outputs": [
    {
     "data": {
      "text/plain": [
       "942890"
      ]
     },
     "execution_count": 8,
     "metadata": {},
     "output_type": "execute_result"
    }
   ],
   "source": [
    "hash(r.transform(-1))"
   ]
  },
  {
   "cell_type": "markdown",
   "metadata": {},
   "source": [
    "# Randomizer and solver"
   ]
  },
  {
   "cell_type": "code",
   "execution_count": 9,
   "metadata": {},
   "outputs": [],
   "source": [
    "random = rubiks.randomize(r, 60)"
   ]
  },
  {
   "cell_type": "code",
   "execution_count": 10,
   "metadata": {},
   "outputs": [
    {
     "data": {
      "text/plain": [
       "(0,4)\n",
       "(0,3)\n",
       "  |\n",
       "(1,5) _ (0,1) _ (2,4) _ (3,5)\n",
       "(2,4)   (3,0)   (4,2)   (3,1)\n",
       "  |\n",
       "(5,2)\n",
       "(5,1)"
      ]
     },
     "execution_count": 10,
     "metadata": {},
     "output_type": "execute_result"
    }
   ],
   "source": [
    "random"
   ]
  },
  {
   "cell_type": "code",
   "execution_count": 11,
   "metadata": {
    "scrolled": false
   },
   "outputs": [
    {
     "name": "stdout",
     "output_type": "stream",
     "text": [
      "................................................................................\n",
      "................................................................................\n",
      "................................................................................\n",
      "................................................................................\n",
      "................................................................................\n",
      "................................................................................\n",
      "................................................................................\n",
      "................................................................................\n",
      "................................................................................\n",
      ".......................................................Found it!\n",
      "(4,4)\n",
      "(4,4)\n",
      "  |\n",
      "(0,0) _ (1,1) _ (2,2) _ (3,3)\n",
      "(0,0)   (1,1)   (2,2)   (3,3)\n",
      "  |\n",
      "(5,5)\n",
      "(5,5)\n",
      "\n",
      "Came from move: 'right inverse' on\n",
      "(4,0)\n",
      "(4,0)\n",
      "  |\n",
      "(0,5) _ (1,1) _ (4,2) _ (3,3)\n",
      "(0,5)   (1,1)   (4,2)   (3,3)\n",
      "  |\n",
      "(5,2)\n",
      "(5,2)\n",
      "\n",
      "Came from move: 'right inverse' on\n",
      "(4,5)\n",
      "(4,5)\n",
      "  |\n",
      "(0,2) _ (1,1) _ (0,2) _ (3,3)\n",
      "(0,2)   (1,1)   (0,2)   (3,3)\n",
      "  |\n",
      "(5,4)\n",
      "(5,4)\n",
      "\n",
      "Came from move: 'top inverse' on\n",
      "(4,4)\n",
      "(5,5)\n",
      "  |\n",
      "(1,1) _ (0,2) _ (3,3) _ (0,2)\n",
      "(0,2)   (1,1)   (0,2)   (3,3)\n",
      "  |\n",
      "(5,4)\n",
      "(5,4)\n",
      "\n",
      "Came from move: 'front inverse' on\n",
      "(4,4)\n",
      "(3,2)\n",
      "  |\n",
      "(0,1) _ (5,2) _ (3,3) _ (0,5)\n",
      "(2,1)   (5,1)   (0,2)   (3,4)\n",
      "  |\n",
      "(1,0)\n",
      "(5,4)\n",
      "\n",
      "Came from move: 'right' on\n",
      "(4,0)\n",
      "(3,3)\n",
      "  |\n",
      "(0,4) _ (2,1) _ (4,3) _ (0,5)\n",
      "(2,2)   (5,5)   (0,2)   (3,4)\n",
      "  |\n",
      "(1,1)\n",
      "(5,1)\n",
      "\n",
      "Came from move: 'top inverse' on\n",
      "(3,4)\n",
      "(3,0)\n",
      "  |\n",
      "(2,1) _ (4,3) _ (0,5) _ (0,4)\n",
      "(2,2)   (5,5)   (0,2)   (3,4)\n",
      "  |\n",
      "(1,1)\n",
      "(5,1)\n",
      "\n",
      "Came from move: 'front inverse' on\n",
      "(3,4)\n",
      "(4,4)\n",
      "  |\n",
      "(2,2) _ (3,3) _ (0,5) _ (0,1)\n",
      "(2,1)   (0,5)   (0,2)   (3,1)\n",
      "  |\n",
      "(5,4)\n",
      "(5,1)\n",
      "\n",
      "Came from move: 'right' on\n",
      "(3,0)\n",
      "(4,0)\n",
      "  |\n",
      "(2,4) _ (3,5) _ (1,5) _ (0,1)\n",
      "(2,4)   (3,0)   (4,2)   (3,1)\n",
      "  |\n",
      "(5,2)\n",
      "(5,1)\n",
      "\n",
      "Came from move: 'top' on\n",
      "(0,0)\n",
      "(3,4)\n",
      "  |\n",
      "(0,1) _ (2,4) _ (3,5) _ (1,5)\n",
      "(2,4)   (3,0)   (4,2)   (3,1)\n",
      "  |\n",
      "(5,2)\n",
      "(5,1)\n",
      "\n",
      "Came from move: 'top' on\n",
      "(0,4)\n",
      "(0,3)\n",
      "  |\n",
      "(1,5) _ (0,1) _ (2,4) _ (3,5)\n",
      "(2,4)   (3,0)   (4,2)   (3,1)\n",
      "  |\n",
      "(5,2)\n",
      "(5,1)\n",
      "\n",
      "Total 10 steps\n"
     ]
    }
   ],
   "source": [
    "solution = rubiks.solve_2way(random)"
   ]
  },
  {
   "cell_type": "markdown",
   "metadata": {},
   "source": [
    "# Distances between configurations"
   ]
  },
  {
   "cell_type": "code",
   "execution_count": 12,
   "metadata": {},
   "outputs": [],
   "source": [
    "cube = rubiks.Rubiks2x2()"
   ]
  },
  {
   "cell_type": "code",
   "execution_count": 13,
   "metadata": {},
   "outputs": [],
   "source": [
    "cubes = []\n",
    "visited = set([])"
   ]
  },
  {
   "cell_type": "code",
   "execution_count": 14,
   "metadata": {},
   "outputs": [],
   "source": [
    "cubes.append([cube])\n",
    "visited.add(cube)"
   ]
  },
  {
   "cell_type": "code",
   "execution_count": 15,
   "metadata": {},
   "outputs": [],
   "source": [
    "for n in range(10):\n",
    "    new_cubes = []\n",
    "    for c in cubes[-1]:\n",
    "        for t in range(len(rubiks.transformations)):\n",
    "            nc = c.transform(t)\n",
    "            if nc not in visited:\n",
    "                new_cubes.append(nc)\n",
    "                visited.add(nc)\n",
    "    cubes.append(new_cubes)"
   ]
  },
  {
   "cell_type": "code",
   "execution_count": 16,
   "metadata": {},
   "outputs": [
    {
     "data": {
      "text/plain": [
       "11"
      ]
     },
     "execution_count": 16,
     "metadata": {},
     "output_type": "execute_result"
    }
   ],
   "source": [
    "len(cubes)"
   ]
  },
  {
   "cell_type": "code",
   "execution_count": 17,
   "metadata": {},
   "outputs": [],
   "source": [
    "dists = [[cube.dist(c) for c in new_cubes] for new_cubes in cubes]"
   ]
  },
  {
   "cell_type": "code",
   "execution_count": 18,
   "metadata": {},
   "outputs": [],
   "source": [
    "import matplotlib.pyplot as plt"
   ]
  },
  {
   "cell_type": "code",
   "execution_count": 19,
   "metadata": {},
   "outputs": [
    {
     "data": {
      "image/png": "[encoded data removed]",
      "text/plain": [
       "<Figure size 432x1440 with 11 Axes>"
      ]
     },
     "metadata": {
      "needs_background": "light"
     },
     "output_type": "display_data"
    }
   ],
   "source": [
    "fig, axes = plt.subplots(nrows=len(dists), figsize=(6,20))\n",
    "\n",
    "for n in range(len(dists)):\n",
    "    axes[n].hist(dists[n])"
   ]
  },
  {
   "cell_type": "code",
   "execution_count": null,
   "metadata": {},
   "outputs": [],
   "source": []
  }
 ],
 "metadata": {
  "kernelspec": {
   "display_name": "Python 3",
   "language": "python",
   "name": "python3"
  },
  "language_info": {
   "codemirror_mode": {
    "name": "ipython",
    "version": 3
   },
   "file_extension": ".py",
   "mimetype": "text/x-python",
   "name": "python",
   "nbconvert_exporter": "python",
   "pygments_lexer": "ipython3",
   "version": "3.6.7"
  }
 },
 "nbformat": 4,
 "nbformat_minor": 2
}
